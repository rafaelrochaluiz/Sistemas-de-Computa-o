{
 "cells": [
  {
   "cell_type": "markdown",
   "id": "af19d618",
   "metadata": {},
   "source": [
    "Atividade Extra 4"
   ]
  },
  {
   "cell_type": "code",
   "execution_count": null,
   "id": "37efe7fe",
   "metadata": {},
   "outputs": [],
   "source": [
    "def decToBin(number, base, precision):\n",
    "    number = str(number)\n",
    "    integerPart = int(number[: number.index(\".\")])\n",
    "    fractionalPart = float(number[number.index(\".\"):])\n",
    "\n",
    "    output = \"\"\n",
    "\n",
    "    while integerPart != 0:\n",
    "        output = str(integerPart % base) + output\n",
    "        integerPart //= base\n",
    "\n",
    "    if fractionalPart == 0:\n",
    "        return output\n",
    "\n",
    "    output += \".\"\n",
    "\n",
    "    while fractionalPart != 0 and precision != 0:\n",
    "        fractionalPart *= base\n",
    "        fractionalPartString = str(fractionalPart)\n",
    "        output += fractionalPartString[: fractionalPartString.index(\".\")]\n",
    "        fractionalPart = float(fractionalPartString[fractionalPartString.index(\".\"):])\n",
    "        precision -= 1\n",
    "\n",
    "    return output"
   ]
  },
  {
   "cell_type": "code",
   "execution_count": null,
   "id": "5e050a02",
   "metadata": {},
   "outputs": [],
   "source": [
    "number = float(input(\"Digite o número: \\n\"))"
   ]
  },
  {
   "cell_type": "code",
   "execution_count": null,
   "id": "b9bb20c9",
   "metadata": {},
   "outputs": [],
   "source": [
    "print(decToBin(number, 2, 10))"
   ]
  }
 ],
 "metadata": {
  "kernelspec": {
   "display_name": "Python 3 (ipykernel)",
   "language": "python",
   "name": "python3"
  },
  "language_info": {
   "codemirror_mode": {
    "name": "ipython",
    "version": 3
   },
   "file_extension": ".py",
   "mimetype": "text/x-python",
   "name": "python",
   "nbconvert_exporter": "python",
   "pygments_lexer": "ipython3",
   "version": "3.10.9"
  }
 },
 "nbformat": 4,
 "nbformat_minor": 5
}
