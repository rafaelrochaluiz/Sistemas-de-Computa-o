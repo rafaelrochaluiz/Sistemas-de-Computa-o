{
 "cells": [
  {
   "cell_type": "markdown",
   "id": "10b54bee",
   "metadata": {},
   "source": [
    "Atividade Extra 5.2"
   ]
  },
  {
   "cell_type": "code",
   "execution_count": null,
   "id": "a9b7b0bc",
   "metadata": {},
   "outputs": [],
   "source": [
    "hex_num = input(\"Digite um número hexadecimal: \")"
   ]
  },
  {
   "cell_type": "code",
   "execution_count": null,
   "id": "d7518897",
   "metadata": {},
   "outputs": [],
   "source": [
    "hex_dict = {'0': '0000', '1': '0001', '2': '0010', '3': '0011', '4': '0100', '5': '0101', '6': '0110', '7': '0111', '8': '1000', '9': '1001', 'a': '1010', 'b': '1011', 'c': '1100', 'd': '1101', 'e': '1110', 'f': '1111'}"
   ]
  },
  {
   "cell_type": "code",
   "execution_count": null,
   "id": "21fa0727",
   "metadata": {},
   "outputs": [],
   "source": [
    "binary = ''"
   ]
  },
  {
   "cell_type": "code",
   "execution_count": null,
   "id": "e74919cf",
   "metadata": {},
   "outputs": [],
   "source": [
    "for digit in hex_num:\n",
    "    binary += hex_dict[digit]"
   ]
  },
  {
   "cell_type": "code",
   "execution_count": null,
   "id": "d45a5195",
   "metadata": {},
   "outputs": [],
   "source": [
    "print(binary)"
   ]
  },
  {
   "cell_type": "code",
   "execution_count": null,
   "id": "7ad95764",
   "metadata": {},
   "outputs": [],
   "source": []
  }
 ],
 "metadata": {
  "kernelspec": {
   "display_name": "Python 3 (ipykernel)",
   "language": "python",
   "name": "python3"
  },
  "language_info": {
   "codemirror_mode": {
    "name": "ipython",
    "version": 3
   },
   "file_extension": ".py",
   "mimetype": "text/x-python",
   "name": "python",
   "nbconvert_exporter": "python",
   "pygments_lexer": "ipython3",
   "version": "3.10.9"
  }
 },
 "nbformat": 4,
 "nbformat_minor": 5
}
