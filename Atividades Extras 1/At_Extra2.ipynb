{
 "cells": [
  {
   "cell_type": "markdown",
   "id": "9d787f73",
   "metadata": {},
   "source": [
    "Atividade Extra 2"
   ]
  },
  {
   "cell_type": "code",
   "execution_count": null,
   "id": "3b65bed3",
   "metadata": {},
   "outputs": [],
   "source": [
    "num_bin = input(\"Digite um número binário: \")"
   ]
  },
  {
   "cell_type": "code",
   "execution_count": null,
   "id": "3d03b5c8",
   "metadata": {},
   "outputs": [],
   "source": [
    "num_dec = int(num_bin, 2)"
   ]
  },
  {
   "cell_type": "code",
   "execution_count": null,
   "id": "3fd7976e",
   "metadata": {},
   "outputs": [],
   "source": [
    "print(num_dec)"
   ]
  },
  {
   "cell_type": "code",
   "execution_count": null,
   "id": "7ff7c2be",
   "metadata": {},
   "outputs": [],
   "source": []
  }
 ],
 "metadata": {
  "kernelspec": {
   "display_name": "Python 3 (ipykernel)",
   "language": "python",
   "name": "python3"
  },
  "language_info": {
   "codemirror_mode": {
    "name": "ipython",
    "version": 3
   },
   "file_extension": ".py",
   "mimetype": "text/x-python",
   "name": "python",
   "nbconvert_exporter": "python",
   "pygments_lexer": "ipython3",
   "version": "3.10.9"
  }
 },
 "nbformat": 4,
 "nbformat_minor": 5
}
