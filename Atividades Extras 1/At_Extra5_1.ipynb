{
 "cells": [
  {
   "cell_type": "markdown",
   "id": "35d36498",
   "metadata": {},
   "source": [
    "Atividade Extra 5.1"
   ]
  },
  {
   "cell_type": "code",
   "execution_count": null,
   "id": "c88b61bc",
   "metadata": {},
   "outputs": [],
   "source": [
    "def convert(octal):\n",
    "    print(\"Número binário equivalente: \", end=\"\")\n",
    "    for i in range(len(octal)):\n",
    "        switcher = {\n",
    "            0: \"000\",\n",
    "            1: \"001\",\n",
    "            2: \"010\",\n",
    "            3: \"011\",\n",
    "            4: \"100\",\n",
    "            5: \"101\",\n",
    "            6: \"110\",\n",
    "            7: \"111\"\n",
    "        }\n",
    "        print(switcher.get(int(octal[i]), \"Invalid Octal Number\"), end=\"\")\n"
   ]
  },
  {
   "cell_type": "code",
   "execution_count": null,
   "id": "2c63c73a",
   "metadata": {},
   "outputs": [],
   "source": [
    "octal = list(input(\"Insira um número octal: \"))"
   ]
  },
  {
   "cell_type": "code",
   "execution_count": null,
   "id": "275d8197",
   "metadata": {},
   "outputs": [],
   "source": [
    "convert(octal)"
   ]
  }
 ],
 "metadata": {
  "kernelspec": {
   "display_name": "Python 3 (ipykernel)",
   "language": "python",
   "name": "python3"
  },
  "language_info": {
   "codemirror_mode": {
    "name": "ipython",
    "version": 3
   },
   "file_extension": ".py",
   "mimetype": "text/x-python",
   "name": "python",
   "nbconvert_exporter": "python",
   "pygments_lexer": "ipython3",
   "version": "3.10.9"
  }
 },
 "nbformat": 4,
 "nbformat_minor": 5
}
