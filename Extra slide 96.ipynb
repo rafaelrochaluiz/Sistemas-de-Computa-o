{
 "cells": [
  {
   "cell_type": "markdown",
   "id": "80b92021",
   "metadata": {},
   "source": [
    "### Subtração com complemento de 2\n",
    "**Aluno: Luiz Rafael Silva da Rocha**"
   ]
  },
  {
   "cell_type": "code",
   "execution_count": null,
   "id": "0ffa724c",
   "metadata": {},
   "outputs": [],
   "source": [
    "num_bin1 = input(\"Digite um número binário: \")\n",
    "num_bin2 = input(\"Digite outro número binário: \")"
   ]
  },
  {
   "cell_type": "code",
   "execution_count": null,
   "id": "aaedcb38",
   "metadata": {},
   "outputs": [],
   "source": [
    "complement = ''\n",
    "for i in num_bin2:\n",
    "    if i == '0':\n",
    "        complement += '1'\n",
    "    else:\n",
    "        complement += '0'\n",
    "print(complement)"
   ]
  },
  {
   "cell_type": "code",
   "execution_count": null,
   "id": "078eda84",
   "metadata": {},
   "outputs": [],
   "source": [
    "one = \"1\"\n",
    "sum_one = bin(int(complement, 2) + int(one, 2))\n",
    "print(sum_one[2:])"
   ]
  },
  {
   "cell_type": "code",
   "execution_count": null,
   "id": "ae0e3079",
   "metadata": {},
   "outputs": [],
   "source": [
    "sum = bin(int(num_bin1, 2) + int(sum_one, 2))\n",
    "print(\"A subtração entre \", num_bin1, \" e \", num_bin2, \" é \", sum[3:])"
   ]
  }
 ],
 "metadata": {
  "kernelspec": {
   "display_name": "Python 3 (ipykernel)",
   "language": "python",
   "name": "python3"
  },
  "language_info": {
   "codemirror_mode": {
    "name": "ipython",
    "version": 3
   },
   "file_extension": ".py",
   "mimetype": "text/x-python",
   "name": "python",
   "nbconvert_exporter": "python",
   "pygments_lexer": "ipython3",
   "version": "3.10.9"
  }
 },
 "nbformat": 4,
 "nbformat_minor": 5
}
